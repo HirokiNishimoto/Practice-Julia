{
 "cells": [
  {
   "cell_type": "markdown",
   "metadata": {},
   "source": [
    "# 2 確率分布の統計モデルの最尤推定"
   ]
  },
  {
   "cell_type": "code",
   "execution_count": 1,
   "metadata": {},
   "outputs": [],
   "source": [
    "using Distributions\n",
    "using Plots\n",
    "using StatsBase\n",
    "using Statistics"
   ]
  },
  {
   "cell_type": "markdown",
   "metadata": {},
   "source": [
    "### 2.1 例題:種子数の統計モデリング"
   ]
  },
  {
   "cell_type": "markdown",
   "metadata": {},
   "source": [
    "### 種子数データ"
   ]
  },
  {
   "cell_type": "code",
   "execution_count": 2,
   "metadata": {},
   "outputs": [
    {
     "data": {
      "text/plain": [
       "50-element Array{Int64,1}:\n",
       " 2\n",
       " 2\n",
       " 4\n",
       " 6\n",
       " 4\n",
       " 5\n",
       " 2\n",
       " 3\n",
       " 1\n",
       " 2\n",
       " 0\n",
       " 4\n",
       " 3\n",
       " ⋮\n",
       " 2\n",
       " 2\n",
       " 6\n",
       " 2\n",
       " 4\n",
       " 5\n",
       " 4\n",
       " 5\n",
       " 1\n",
       " 3\n",
       " 2\n",
       " 3"
      ]
     },
     "execution_count": 2,
     "metadata": {},
     "output_type": "execute_result"
    }
   ],
   "source": [
    "data = [2, 2, 4, 6, 4, 5, 2, 3, 1, 2, 0, 4, 3, 3, 3, 3,4, 2, 7, 2, 4, 3, 3, 3, 4,\n",
    "        3, 7, 5, 3, 1, 7, 6, 4, 6, 5, 2, 4, 7, 2, 2, 6, 2, 4, 5, 4, 5, 1, 3, 2, 3]"
   ]
  },
  {
   "cell_type": "markdown",
   "metadata": {},
   "source": [
    "### データ数"
   ]
  },
  {
   "cell_type": "code",
   "execution_count": 30,
   "metadata": {},
   "outputs": [
    {
     "data": {
      "text/plain": [
       "50"
      ]
     },
     "execution_count": 30,
     "metadata": {},
     "output_type": "execute_result"
    }
   ],
   "source": [
    "length(data)"
   ]
  },
  {
   "cell_type": "markdown",
   "metadata": {},
   "source": [
    "### データの要約"
   ]
  },
  {
   "cell_type": "code",
   "execution_count": 31,
   "metadata": {},
   "outputs": [
    {
     "name": "stdout",
     "output_type": "stream",
     "text": [
      "Summary Stats:\n",
      "Length:         50\n",
      "Missing Count:  0\n",
      "Mean:           3.560000\n",
      "Minimum:        0.000000\n",
      "1st Quartile:   2.000000\n",
      "Median:         3.000000\n",
      "3rd Quartile:   4.750000\n",
      "Maximum:        7.000000\n",
      "Type:           Int64\n"
     ]
    }
   ],
   "source": [
    "describe(data)"
   ]
  },
  {
   "cell_type": "markdown",
   "metadata": {},
   "source": [
    "### 度数分布"
   ]
  },
  {
   "cell_type": "code",
   "execution_count": 33,
   "metadata": {},
   "outputs": [
    {
     "data": {
      "text/plain": [
       "OrderedCollections.OrderedDict{Int64,Int64} with 8 entries:\n",
       "  0 => 1\n",
       "  1 => 3\n",
       "  2 => 11\n",
       "  3 => 12\n",
       "  4 => 10\n",
       "  5 => 5\n",
       "  6 => 4\n",
       "  7 => 4"
      ]
     },
     "execution_count": 33,
     "metadata": {},
     "output_type": "execute_result"
    }
   ],
   "source": [
    "sort(countmap(data))"
   ]
  },
  {
   "cell_type": "markdown",
   "metadata": {},
   "source": [
    "### ヒストグラム"
   ]
  },
  {
   "cell_type": "code",
   "execution_count": 37,
   "metadata": {},
   "outputs": [
    {
     "data": {
      "image/svg+xml": [
       "<?xml version=\"1.0\" encoding=\"utf-8\"?>\n",
       "<svg xmlns=\"http://www.w3.org/2000/svg\" xmlns:xlink=\"http://www.w3.org/1999/xlink\" width=\"600\" height=\"400\" viewBox=\"0 0 2400 1600\">\n",
       "<defs>\n",
       "  <clipPath id=\"clip9600\">\n",
       "    <rect x=\"0\" y=\"0\" width=\"2400\" height=\"1600\"/>\n",
       "  </clipPath>\n",
       "</defs>\n",
       "<polygon clip-path=\"url(#clip9600)\" points=\"\n",
       "0,1600 2400,1600 2400,0 0,0 \n",
       "  \" fill=\"#ffffff\" fill-rule=\"evenodd\" fill-opacity=\"1\"/>\n",
       "<defs>\n",
       "  <clipPath id=\"clip9601\">\n",
       "    <rect x=\"480\" y=\"0\" width=\"1681\" height=\"1600\"/>\n",
       "  </clipPath>\n",
       "</defs>\n",
       "<polygon clip-path=\"url(#clip9600)\" points=\"\n",
       "188.156,1503.47 2321.26,1503.47 2321.26,47.2441 188.156,47.2441 \n",
       "  \" fill=\"#ffffff\" fill-rule=\"evenodd\" fill-opacity=\"1\"/>\n",
       "<defs>\n",
       "  <clipPath id=\"clip9602\">\n",
       "    <rect x=\"188\" y=\"47\" width=\"2134\" height=\"1457\"/>\n",
       "  </clipPath>\n",
       "</defs>\n",
       "<polyline clip-path=\"url(#clip9602)\" style=\"stroke:#000000; stroke-width:2; stroke-opacity:0.1; fill:none\" points=\"\n",
       "  305.481,1503.47 305.481,47.2441 \n",
       "  \"/>\n",
       "<polyline clip-path=\"url(#clip9602)\" style=\"stroke:#000000; stroke-width:2; stroke-opacity:0.1; fill:none\" points=\"\n",
       "  780.094,1503.47 780.094,47.2441 \n",
       "  \"/>\n",
       "<polyline clip-path=\"url(#clip9602)\" style=\"stroke:#000000; stroke-width:2; stroke-opacity:0.1; fill:none\" points=\"\n",
       "  1254.71,1503.47 1254.71,47.2441 \n",
       "  \"/>\n",
       "<polyline clip-path=\"url(#clip9602)\" style=\"stroke:#000000; stroke-width:2; stroke-opacity:0.1; fill:none\" points=\"\n",
       "  1729.32,1503.47 1729.32,47.2441 \n",
       "  \"/>\n",
       "<polyline clip-path=\"url(#clip9602)\" style=\"stroke:#000000; stroke-width:2; stroke-opacity:0.1; fill:none\" points=\"\n",
       "  2203.94,1503.47 2203.94,47.2441 \n",
       "  \"/>\n",
       "<polyline clip-path=\"url(#clip9602)\" style=\"stroke:#000000; stroke-width:2; stroke-opacity:0.1; fill:none\" points=\"\n",
       "  188.156,1462.26 2321.26,1462.26 \n",
       "  \"/>\n",
       "<polyline clip-path=\"url(#clip9602)\" style=\"stroke:#000000; stroke-width:2; stroke-opacity:0.1; fill:none\" points=\"\n",
       "  188.156,1176.05 2321.26,1176.05 \n",
       "  \"/>\n",
       "<polyline clip-path=\"url(#clip9602)\" style=\"stroke:#000000; stroke-width:2; stroke-opacity:0.1; fill:none\" points=\"\n",
       "  188.156,889.843 2321.26,889.843 \n",
       "  \"/>\n",
       "<polyline clip-path=\"url(#clip9602)\" style=\"stroke:#000000; stroke-width:2; stroke-opacity:0.1; fill:none\" points=\"\n",
       "  188.156,603.634 2321.26,603.634 \n",
       "  \"/>\n",
       "<polyline clip-path=\"url(#clip9602)\" style=\"stroke:#000000; stroke-width:2; stroke-opacity:0.1; fill:none\" points=\"\n",
       "  188.156,317.425 2321.26,317.425 \n",
       "  \"/>\n",
       "<polyline clip-path=\"url(#clip9600)\" style=\"stroke:#000000; stroke-width:4; stroke-opacity:1; fill:none\" points=\"\n",
       "  188.156,1503.47 2321.26,1503.47 \n",
       "  \"/>\n",
       "<polyline clip-path=\"url(#clip9600)\" style=\"stroke:#000000; stroke-width:4; stroke-opacity:1; fill:none\" points=\"\n",
       "  188.156,1503.47 188.156,47.2441 \n",
       "  \"/>\n",
       "<polyline clip-path=\"url(#clip9600)\" style=\"stroke:#000000; stroke-width:4; stroke-opacity:1; fill:none\" points=\"\n",
       "  305.481,1503.47 305.481,1481.63 \n",
       "  \"/>\n",
       "<polyline clip-path=\"url(#clip9600)\" style=\"stroke:#000000; stroke-width:4; stroke-opacity:1; fill:none\" points=\"\n",
       "  780.094,1503.47 780.094,1481.63 \n",
       "  \"/>\n",
       "<polyline clip-path=\"url(#clip9600)\" style=\"stroke:#000000; stroke-width:4; stroke-opacity:1; fill:none\" points=\"\n",
       "  1254.71,1503.47 1254.71,1481.63 \n",
       "  \"/>\n",
       "<polyline clip-path=\"url(#clip9600)\" style=\"stroke:#000000; stroke-width:4; stroke-opacity:1; fill:none\" points=\"\n",
       "  1729.32,1503.47 1729.32,1481.63 \n",
       "  \"/>\n",
       "<polyline clip-path=\"url(#clip9600)\" style=\"stroke:#000000; stroke-width:4; stroke-opacity:1; fill:none\" points=\"\n",
       "  2203.94,1503.47 2203.94,1481.63 \n",
       "  \"/>\n",
       "<polyline clip-path=\"url(#clip9600)\" style=\"stroke:#000000; stroke-width:4; stroke-opacity:1; fill:none\" points=\"\n",
       "  188.156,1462.26 220.153,1462.26 \n",
       "  \"/>\n",
       "<polyline clip-path=\"url(#clip9600)\" style=\"stroke:#000000; stroke-width:4; stroke-opacity:1; fill:none\" points=\"\n",
       "  188.156,1176.05 220.153,1176.05 \n",
       "  \"/>\n",
       "<polyline clip-path=\"url(#clip9600)\" style=\"stroke:#000000; stroke-width:4; stroke-opacity:1; fill:none\" points=\"\n",
       "  188.156,889.843 220.153,889.843 \n",
       "  \"/>\n",
       "<polyline clip-path=\"url(#clip9600)\" style=\"stroke:#000000; stroke-width:4; stroke-opacity:1; fill:none\" points=\"\n",
       "  188.156,603.634 220.153,603.634 \n",
       "  \"/>\n",
       "<polyline clip-path=\"url(#clip9600)\" style=\"stroke:#000000; stroke-width:4; stroke-opacity:1; fill:none\" points=\"\n",
       "  188.156,317.425 220.153,317.425 \n",
       "  \"/>\n",
       "<g clip-path=\"url(#clip9600)\">\n",
       "<text style=\"fill:#000000; fill-opacity:1; font-family:Arial,Helvetica Neue,Helvetica,sans-serif; font-size:48px; text-anchor:middle;\" transform=\"rotate(0, 305.481, 1557.47)\" x=\"305.481\" y=\"1557.47\">0</text>\n",
       "</g>\n",
       "<g clip-path=\"url(#clip9600)\">\n",
       "<text style=\"fill:#000000; fill-opacity:1; font-family:Arial,Helvetica Neue,Helvetica,sans-serif; font-size:48px; text-anchor:middle;\" transform=\"rotate(0, 780.094, 1557.47)\" x=\"780.094\" y=\"1557.47\">2</text>\n",
       "</g>\n",
       "<g clip-path=\"url(#clip9600)\">\n",
       "<text style=\"fill:#000000; fill-opacity:1; font-family:Arial,Helvetica Neue,Helvetica,sans-serif; font-size:48px; text-anchor:middle;\" transform=\"rotate(0, 1254.71, 1557.47)\" x=\"1254.71\" y=\"1557.47\">4</text>\n",
       "</g>\n",
       "<g clip-path=\"url(#clip9600)\">\n",
       "<text style=\"fill:#000000; fill-opacity:1; font-family:Arial,Helvetica Neue,Helvetica,sans-serif; font-size:48px; text-anchor:middle;\" transform=\"rotate(0, 1729.32, 1557.47)\" x=\"1729.32\" y=\"1557.47\">6</text>\n",
       "</g>\n",
       "<g clip-path=\"url(#clip9600)\">\n",
       "<text style=\"fill:#000000; fill-opacity:1; font-family:Arial,Helvetica Neue,Helvetica,sans-serif; font-size:48px; text-anchor:middle;\" transform=\"rotate(0, 2203.94, 1557.47)\" x=\"2203.94\" y=\"1557.47\">8</text>\n",
       "</g>\n",
       "<g clip-path=\"url(#clip9600)\">\n",
       "<text style=\"fill:#000000; fill-opacity:1; font-family:Arial,Helvetica Neue,Helvetica,sans-serif; font-size:48px; text-anchor:end;\" transform=\"rotate(0, 164.156, 1479.76)\" x=\"164.156\" y=\"1479.76\">0.0</text>\n",
       "</g>\n",
       "<g clip-path=\"url(#clip9600)\">\n",
       "<text style=\"fill:#000000; fill-opacity:1; font-family:Arial,Helvetica Neue,Helvetica,sans-serif; font-size:48px; text-anchor:end;\" transform=\"rotate(0, 164.156, 1193.55)\" x=\"164.156\" y=\"1193.55\">2.5</text>\n",
       "</g>\n",
       "<g clip-path=\"url(#clip9600)\">\n",
       "<text style=\"fill:#000000; fill-opacity:1; font-family:Arial,Helvetica Neue,Helvetica,sans-serif; font-size:48px; text-anchor:end;\" transform=\"rotate(0, 164.156, 907.343)\" x=\"164.156\" y=\"907.343\">5.0</text>\n",
       "</g>\n",
       "<g clip-path=\"url(#clip9600)\">\n",
       "<text style=\"fill:#000000; fill-opacity:1; font-family:Arial,Helvetica Neue,Helvetica,sans-serif; font-size:48px; text-anchor:end;\" transform=\"rotate(0, 164.156, 621.134)\" x=\"164.156\" y=\"621.134\">7.5</text>\n",
       "</g>\n",
       "<g clip-path=\"url(#clip9600)\">\n",
       "<text style=\"fill:#000000; fill-opacity:1; font-family:Arial,Helvetica Neue,Helvetica,sans-serif; font-size:48px; text-anchor:end;\" transform=\"rotate(0, 164.156, 334.925)\" x=\"164.156\" y=\"334.925\">10.0</text>\n",
       "</g>\n",
       "<polygon clip-path=\"url(#clip9602)\" points=\"\n",
       "305.481,1347.78 305.481,1462.26 542.788,1462.26 542.788,1347.78 305.481,1347.78 305.481,1347.78 \n",
       "  \" fill=\"#009af9\" fill-rule=\"evenodd\" fill-opacity=\"1\"/>\n",
       "<polyline clip-path=\"url(#clip9602)\" style=\"stroke:#000000; stroke-width:4; stroke-opacity:1; fill:none\" points=\"\n",
       "  305.481,1347.78 305.481,1462.26 542.788,1462.26 542.788,1347.78 305.481,1347.78 \n",
       "  \"/>\n",
       "<polygon clip-path=\"url(#clip9602)\" points=\"\n",
       "542.788,1118.81 542.788,1462.26 780.094,1462.26 780.094,1118.81 542.788,1118.81 542.788,1118.81 \n",
       "  \" fill=\"#009af9\" fill-rule=\"evenodd\" fill-opacity=\"1\"/>\n",
       "<polyline clip-path=\"url(#clip9602)\" style=\"stroke:#000000; stroke-width:4; stroke-opacity:1; fill:none\" points=\"\n",
       "  542.788,1118.81 542.788,1462.26 780.094,1462.26 780.094,1118.81 542.788,1118.81 \n",
       "  \"/>\n",
       "<polygon clip-path=\"url(#clip9602)\" points=\"\n",
       "780.094,202.942 780.094,1462.26 1017.4,1462.26 1017.4,202.942 780.094,202.942 780.094,202.942 \n",
       "  \" fill=\"#009af9\" fill-rule=\"evenodd\" fill-opacity=\"1\"/>\n",
       "<polyline clip-path=\"url(#clip9602)\" style=\"stroke:#000000; stroke-width:4; stroke-opacity:1; fill:none\" points=\"\n",
       "  780.094,202.942 780.094,1462.26 1017.4,1462.26 1017.4,202.942 780.094,202.942 \n",
       "  \"/>\n",
       "<polygon clip-path=\"url(#clip9602)\" points=\"\n",
       "1017.4,88.4582 1017.4,1462.26 1254.71,1462.26 1254.71,88.4582 1017.4,88.4582 1017.4,88.4582 \n",
       "  \" fill=\"#009af9\" fill-rule=\"evenodd\" fill-opacity=\"1\"/>\n",
       "<polyline clip-path=\"url(#clip9602)\" style=\"stroke:#000000; stroke-width:4; stroke-opacity:1; fill:none\" points=\"\n",
       "  1017.4,88.4582 1017.4,1462.26 1254.71,1462.26 1254.71,88.4582 1017.4,88.4582 \n",
       "  \"/>\n",
       "<polygon clip-path=\"url(#clip9602)\" points=\"\n",
       "1254.71,317.425 1254.71,1462.26 1492.01,1462.26 1492.01,317.425 1254.71,317.425 1254.71,317.425 \n",
       "  \" fill=\"#009af9\" fill-rule=\"evenodd\" fill-opacity=\"1\"/>\n",
       "<polyline clip-path=\"url(#clip9602)\" style=\"stroke:#000000; stroke-width:4; stroke-opacity:1; fill:none\" points=\"\n",
       "  1254.71,317.425 1254.71,1462.26 1492.01,1462.26 1492.01,317.425 1254.71,317.425 \n",
       "  \"/>\n",
       "<polygon clip-path=\"url(#clip9602)\" points=\"\n",
       "1492.01,889.843 1492.01,1462.26 1729.32,1462.26 1729.32,889.843 1492.01,889.843 1492.01,889.843 \n",
       "  \" fill=\"#009af9\" fill-rule=\"evenodd\" fill-opacity=\"1\"/>\n",
       "<polyline clip-path=\"url(#clip9602)\" style=\"stroke:#000000; stroke-width:4; stroke-opacity:1; fill:none\" points=\"\n",
       "  1492.01,889.843 1492.01,1462.26 1729.32,1462.26 1729.32,889.843 1492.01,889.843 \n",
       "  \"/>\n",
       "<polygon clip-path=\"url(#clip9602)\" points=\"\n",
       "1729.32,1004.33 1729.32,1462.26 1966.63,1462.26 1966.63,1004.33 1729.32,1004.33 1729.32,1004.33 \n",
       "  \" fill=\"#009af9\" fill-rule=\"evenodd\" fill-opacity=\"1\"/>\n",
       "<polyline clip-path=\"url(#clip9602)\" style=\"stroke:#000000; stroke-width:4; stroke-opacity:1; fill:none\" points=\"\n",
       "  1729.32,1004.33 1729.32,1462.26 1966.63,1462.26 1966.63,1004.33 1729.32,1004.33 \n",
       "  \"/>\n",
       "<polygon clip-path=\"url(#clip9602)\" points=\"\n",
       "1966.63,1004.33 1966.63,1462.26 2203.94,1462.26 2203.94,1004.33 1966.63,1004.33 1966.63,1004.33 \n",
       "  \" fill=\"#009af9\" fill-rule=\"evenodd\" fill-opacity=\"1\"/>\n",
       "<polyline clip-path=\"url(#clip9602)\" style=\"stroke:#000000; stroke-width:4; stroke-opacity:1; fill:none\" points=\"\n",
       "  1966.63,1004.33 1966.63,1462.26 2203.94,1462.26 2203.94,1004.33 1966.63,1004.33 \n",
       "  \"/>\n",
       "<polygon clip-path=\"url(#clip9600)\" points=\"\n",
       "1915.59,251.724 2249.26,251.724 2249.26,130.764 1915.59,130.764 \n",
       "  \" fill=\"#ffffff\" fill-rule=\"evenodd\" fill-opacity=\"1\"/>\n",
       "<polyline clip-path=\"url(#clip9600)\" style=\"stroke:#000000; stroke-width:4; stroke-opacity:1; fill:none\" points=\"\n",
       "  1915.59,251.724 2249.26,251.724 2249.26,130.764 1915.59,130.764 1915.59,251.724 \n",
       "  \"/>\n",
       "<polygon clip-path=\"url(#clip9600)\" points=\"\n",
       "1939.59,215.436 2083.59,215.436 2083.59,167.052 1939.59,167.052 1939.59,215.436 \n",
       "  \" fill=\"#009af9\" fill-rule=\"evenodd\" fill-opacity=\"1\"/>\n",
       "<polyline clip-path=\"url(#clip9600)\" style=\"stroke:#000000; stroke-width:4; stroke-opacity:1; fill:none\" points=\"\n",
       "  1939.59,215.436 2083.59,215.436 2083.59,167.052 1939.59,167.052 1939.59,215.436 \n",
       "  \"/>\n",
       "<g clip-path=\"url(#clip9600)\">\n",
       "<text style=\"fill:#000000; fill-opacity:1; font-family:Arial,Helvetica Neue,Helvetica,sans-serif; font-size:48px; text-anchor:start;\" transform=\"rotate(0, 2107.59, 208.744)\" x=\"2107.59\" y=\"208.744\">data</text>\n",
       "</g>\n",
       "</svg>\n"
      ]
     },
     "execution_count": 37,
     "metadata": {},
     "output_type": "execute_result"
    }
   ],
   "source": [
    "histogram(data, bins=10, label=\"data\")"
   ]
  },
  {
   "cell_type": "markdown",
   "metadata": {},
   "source": [
    "### 標本分散"
   ]
  },
  {
   "cell_type": "code",
   "execution_count": 38,
   "metadata": {},
   "outputs": [
    {
     "data": {
      "text/plain": [
       "2.9861224489795917"
      ]
     },
     "execution_count": 38,
     "metadata": {},
     "output_type": "execute_result"
    }
   ],
   "source": [
    "var(data)"
   ]
  },
  {
   "cell_type": "markdown",
   "metadata": {},
   "source": [
    "### 標本標準偏差"
   ]
  },
  {
   "cell_type": "code",
   "execution_count": 39,
   "metadata": {},
   "outputs": [
    {
     "data": {
      "text/plain": [
       "1.728040060004279"
      ]
     },
     "execution_count": 39,
     "metadata": {},
     "output_type": "execute_result"
    }
   ],
   "source": [
    "std(data)"
   ]
  },
  {
   "cell_type": "markdown",
   "metadata": {},
   "source": [
    "## 2.2 データと確率分布の対応関係をながめる\n",
    "### ポアソン分布"
   ]
  },
  {
   "cell_type": "code",
   "execution_count": 11,
   "metadata": {},
   "outputs": [
    {
     "data": {
      "text/plain": [
       "10-element Array{Float64,1}:\n",
       " 0.028438824714184505 \n",
       " 0.10124221598249684  \n",
       " 0.18021114444884437  \n",
       " 0.21385055807929534  \n",
       " 0.19032699669057287  \n",
       " 0.1355128216436879   \n",
       " 0.08040427417525477  \n",
       " 0.04089131658055819  \n",
       " 0.018196635878348365 \n",
       " 0.0071977804141022395"
      ]
     },
     "execution_count": 11,
     "metadata": {},
     "output_type": "execute_result"
    }
   ],
   "source": [
    "y = 0:9\n",
    "prob = pdf.(Poisson(3.56), y)"
   ]
  },
  {
   "cell_type": "code",
   "execution_count": 23,
   "metadata": {
    "scrolled": true
   },
   "outputs": [
    {
     "data": {
      "image/svg+xml": [
       "<?xml version=\"1.0\" encoding=\"utf-8\"?>\n",
       "<svg xmlns=\"http://www.w3.org/2000/svg\" xmlns:xlink=\"http://www.w3.org/1999/xlink\" width=\"600\" height=\"400\" viewBox=\"0 0 2400 1600\">\n",
       "<defs>\n",
       "  <clipPath id=\"clip1500\">\n",
       "    <rect x=\"0\" y=\"0\" width=\"2400\" height=\"1600\"/>\n",
       "  </clipPath>\n",
       "</defs>\n",
       "<polygon clip-path=\"url(#clip1500)\" points=\"\n",
       "0,1600 2400,1600 2400,0 0,0 \n",
       "  \" fill=\"#ffffff\" fill-rule=\"evenodd\" fill-opacity=\"1\"/>\n",
       "<defs>\n",
       "  <clipPath id=\"clip1501\">\n",
       "    <rect x=\"480\" y=\"0\" width=\"1681\" height=\"1600\"/>\n",
       "  </clipPath>\n",
       "</defs>\n",
       "<polygon clip-path=\"url(#clip1500)\" points=\"\n",
       "148.013,1503.47 2321.26,1503.47 2321.26,47.2441 148.013,47.2441 \n",
       "  \" fill=\"#ffffff\" fill-rule=\"evenodd\" fill-opacity=\"1\"/>\n",
       "<defs>\n",
       "  <clipPath id=\"clip1502\">\n",
       "    <rect x=\"148\" y=\"47\" width=\"2174\" height=\"1457\"/>\n",
       "  </clipPath>\n",
       "</defs>\n",
       "<polyline clip-path=\"url(#clip1502)\" style=\"stroke:#000000; stroke-width:2; stroke-opacity:0.1; fill:none\" points=\"\n",
       "  260.039,1503.47 260.039,47.2441 \n",
       "  \"/>\n",
       "<polyline clip-path=\"url(#clip1502)\" style=\"stroke:#000000; stroke-width:2; stroke-opacity:0.1; fill:none\" points=\"\n",
       "  681.031,1503.47 681.031,47.2441 \n",
       "  \"/>\n",
       "<polyline clip-path=\"url(#clip1502)\" style=\"stroke:#000000; stroke-width:2; stroke-opacity:0.1; fill:none\" points=\"\n",
       "  1102.02,1503.47 1102.02,47.2441 \n",
       "  \"/>\n",
       "<polyline clip-path=\"url(#clip1502)\" style=\"stroke:#000000; stroke-width:2; stroke-opacity:0.1; fill:none\" points=\"\n",
       "  1523.02,1503.47 1523.02,47.2441 \n",
       "  \"/>\n",
       "<polyline clip-path=\"url(#clip1502)\" style=\"stroke:#000000; stroke-width:2; stroke-opacity:0.1; fill:none\" points=\"\n",
       "  1944.01,1503.47 1944.01,47.2441 \n",
       "  \"/>\n",
       "<polyline clip-path=\"url(#clip1502)\" style=\"stroke:#000000; stroke-width:2; stroke-opacity:0.1; fill:none\" points=\"\n",
       "  148.013,1462.26 2321.26,1462.26 \n",
       "  \"/>\n",
       "<polyline clip-path=\"url(#clip1502)\" style=\"stroke:#000000; stroke-width:2; stroke-opacity:0.1; fill:none\" points=\"\n",
       "  148.013,1248.12 2321.26,1248.12 \n",
       "  \"/>\n",
       "<polyline clip-path=\"url(#clip1502)\" style=\"stroke:#000000; stroke-width:2; stroke-opacity:0.1; fill:none\" points=\"\n",
       "  148.013,1033.99 2321.26,1033.99 \n",
       "  \"/>\n",
       "<polyline clip-path=\"url(#clip1502)\" style=\"stroke:#000000; stroke-width:2; stroke-opacity:0.1; fill:none\" points=\"\n",
       "  148.013,819.848 2321.26,819.848 \n",
       "  \"/>\n",
       "<polyline clip-path=\"url(#clip1502)\" style=\"stroke:#000000; stroke-width:2; stroke-opacity:0.1; fill:none\" points=\"\n",
       "  148.013,605.711 2321.26,605.711 \n",
       "  \"/>\n",
       "<polyline clip-path=\"url(#clip1502)\" style=\"stroke:#000000; stroke-width:2; stroke-opacity:0.1; fill:none\" points=\"\n",
       "  148.013,391.573 2321.26,391.573 \n",
       "  \"/>\n",
       "<polyline clip-path=\"url(#clip1502)\" style=\"stroke:#000000; stroke-width:2; stroke-opacity:0.1; fill:none\" points=\"\n",
       "  148.013,177.436 2321.26,177.436 \n",
       "  \"/>\n",
       "<polyline clip-path=\"url(#clip1500)\" style=\"stroke:#000000; stroke-width:4; stroke-opacity:1; fill:none\" points=\"\n",
       "  148.013,1503.47 2321.26,1503.47 \n",
       "  \"/>\n",
       "<polyline clip-path=\"url(#clip1500)\" style=\"stroke:#000000; stroke-width:4; stroke-opacity:1; fill:none\" points=\"\n",
       "  148.013,1503.47 148.013,47.2441 \n",
       "  \"/>\n",
       "<polyline clip-path=\"url(#clip1500)\" style=\"stroke:#000000; stroke-width:4; stroke-opacity:1; fill:none\" points=\"\n",
       "  260.039,1503.47 260.039,1481.63 \n",
       "  \"/>\n",
       "<polyline clip-path=\"url(#clip1500)\" style=\"stroke:#000000; stroke-width:4; stroke-opacity:1; fill:none\" points=\"\n",
       "  681.031,1503.47 681.031,1481.63 \n",
       "  \"/>\n",
       "<polyline clip-path=\"url(#clip1500)\" style=\"stroke:#000000; stroke-width:4; stroke-opacity:1; fill:none\" points=\"\n",
       "  1102.02,1503.47 1102.02,1481.63 \n",
       "  \"/>\n",
       "<polyline clip-path=\"url(#clip1500)\" style=\"stroke:#000000; stroke-width:4; stroke-opacity:1; fill:none\" points=\"\n",
       "  1523.02,1503.47 1523.02,1481.63 \n",
       "  \"/>\n",
       "<polyline clip-path=\"url(#clip1500)\" style=\"stroke:#000000; stroke-width:4; stroke-opacity:1; fill:none\" points=\"\n",
       "  1944.01,1503.47 1944.01,1481.63 \n",
       "  \"/>\n",
       "<polyline clip-path=\"url(#clip1500)\" style=\"stroke:#000000; stroke-width:4; stroke-opacity:1; fill:none\" points=\"\n",
       "  148.013,1462.26 180.612,1462.26 \n",
       "  \"/>\n",
       "<polyline clip-path=\"url(#clip1500)\" style=\"stroke:#000000; stroke-width:4; stroke-opacity:1; fill:none\" points=\"\n",
       "  148.013,1248.12 180.612,1248.12 \n",
       "  \"/>\n",
       "<polyline clip-path=\"url(#clip1500)\" style=\"stroke:#000000; stroke-width:4; stroke-opacity:1; fill:none\" points=\"\n",
       "  148.013,1033.99 180.612,1033.99 \n",
       "  \"/>\n",
       "<polyline clip-path=\"url(#clip1500)\" style=\"stroke:#000000; stroke-width:4; stroke-opacity:1; fill:none\" points=\"\n",
       "  148.013,819.848 180.612,819.848 \n",
       "  \"/>\n",
       "<polyline clip-path=\"url(#clip1500)\" style=\"stroke:#000000; stroke-width:4; stroke-opacity:1; fill:none\" points=\"\n",
       "  148.013,605.711 180.612,605.711 \n",
       "  \"/>\n",
       "<polyline clip-path=\"url(#clip1500)\" style=\"stroke:#000000; stroke-width:4; stroke-opacity:1; fill:none\" points=\"\n",
       "  148.013,391.573 180.612,391.573 \n",
       "  \"/>\n",
       "<polyline clip-path=\"url(#clip1500)\" style=\"stroke:#000000; stroke-width:4; stroke-opacity:1; fill:none\" points=\"\n",
       "  148.013,177.436 180.612,177.436 \n",
       "  \"/>\n",
       "<g clip-path=\"url(#clip1500)\">\n",
       "<text style=\"fill:#000000; fill-opacity:1; font-family:Arial,Helvetica Neue,Helvetica,sans-serif; font-size:48px; text-anchor:middle;\" transform=\"rotate(0, 260.039, 1557.47)\" x=\"260.039\" y=\"1557.47\">0</text>\n",
       "</g>\n",
       "<g clip-path=\"url(#clip1500)\">\n",
       "<text style=\"fill:#000000; fill-opacity:1; font-family:Arial,Helvetica Neue,Helvetica,sans-serif; font-size:48px; text-anchor:middle;\" transform=\"rotate(0, 681.031, 1557.47)\" x=\"681.031\" y=\"1557.47\">2</text>\n",
       "</g>\n",
       "<g clip-path=\"url(#clip1500)\">\n",
       "<text style=\"fill:#000000; fill-opacity:1; font-family:Arial,Helvetica Neue,Helvetica,sans-serif; font-size:48px; text-anchor:middle;\" transform=\"rotate(0, 1102.02, 1557.47)\" x=\"1102.02\" y=\"1557.47\">4</text>\n",
       "</g>\n",
       "<g clip-path=\"url(#clip1500)\">\n",
       "<text style=\"fill:#000000; fill-opacity:1; font-family:Arial,Helvetica Neue,Helvetica,sans-serif; font-size:48px; text-anchor:middle;\" transform=\"rotate(0, 1523.02, 1557.47)\" x=\"1523.02\" y=\"1557.47\">6</text>\n",
       "</g>\n",
       "<g clip-path=\"url(#clip1500)\">\n",
       "<text style=\"fill:#000000; fill-opacity:1; font-family:Arial,Helvetica Neue,Helvetica,sans-serif; font-size:48px; text-anchor:middle;\" transform=\"rotate(0, 1944.01, 1557.47)\" x=\"1944.01\" y=\"1557.47\">8</text>\n",
       "</g>\n",
       "<g clip-path=\"url(#clip1500)\">\n",
       "<text style=\"fill:#000000; fill-opacity:1; font-family:Arial,Helvetica Neue,Helvetica,sans-serif; font-size:48px; text-anchor:end;\" transform=\"rotate(0, 124.013, 1479.76)\" x=\"124.013\" y=\"1479.76\">0</text>\n",
       "</g>\n",
       "<g clip-path=\"url(#clip1500)\">\n",
       "<text style=\"fill:#000000; fill-opacity:1; font-family:Arial,Helvetica Neue,Helvetica,sans-serif; font-size:48px; text-anchor:end;\" transform=\"rotate(0, 124.013, 1265.62)\" x=\"124.013\" y=\"1265.62\">2</text>\n",
       "</g>\n",
       "<g clip-path=\"url(#clip1500)\">\n",
       "<text style=\"fill:#000000; fill-opacity:1; font-family:Arial,Helvetica Neue,Helvetica,sans-serif; font-size:48px; text-anchor:end;\" transform=\"rotate(0, 124.013, 1051.49)\" x=\"124.013\" y=\"1051.49\">4</text>\n",
       "</g>\n",
       "<g clip-path=\"url(#clip1500)\">\n",
       "<text style=\"fill:#000000; fill-opacity:1; font-family:Arial,Helvetica Neue,Helvetica,sans-serif; font-size:48px; text-anchor:end;\" transform=\"rotate(0, 124.013, 837.348)\" x=\"124.013\" y=\"837.348\">6</text>\n",
       "</g>\n",
       "<g clip-path=\"url(#clip1500)\">\n",
       "<text style=\"fill:#000000; fill-opacity:1; font-family:Arial,Helvetica Neue,Helvetica,sans-serif; font-size:48px; text-anchor:end;\" transform=\"rotate(0, 124.013, 623.211)\" x=\"124.013\" y=\"623.211\">8</text>\n",
       "</g>\n",
       "<g clip-path=\"url(#clip1500)\">\n",
       "<text style=\"fill:#000000; fill-opacity:1; font-family:Arial,Helvetica Neue,Helvetica,sans-serif; font-size:48px; text-anchor:end;\" transform=\"rotate(0, 124.013, 409.073)\" x=\"124.013\" y=\"409.073\">10</text>\n",
       "</g>\n",
       "<g clip-path=\"url(#clip1500)\">\n",
       "<text style=\"fill:#000000; fill-opacity:1; font-family:Arial,Helvetica Neue,Helvetica,sans-serif; font-size:48px; text-anchor:end;\" transform=\"rotate(0, 124.013, 194.936)\" x=\"124.013\" y=\"194.936\">12</text>\n",
       "</g>\n",
       "<polygon clip-path=\"url(#clip1502)\" points=\"\n",
       "260.039,1355.19 260.039,1462.26 470.535,1462.26 470.535,1355.19 260.039,1355.19 260.039,1355.19 \n",
       "  \" fill=\"#009af9\" fill-rule=\"evenodd\" fill-opacity=\"1\"/>\n",
       "<polyline clip-path=\"url(#clip1502)\" style=\"stroke:#000000; stroke-width:4; stroke-opacity:1; fill:none\" points=\"\n",
       "  260.039,1355.19 260.039,1462.26 470.535,1462.26 470.535,1355.19 260.039,1355.19 \n",
       "  \"/>\n",
       "<polygon clip-path=\"url(#clip1502)\" points=\"\n",
       "470.535,1141.05 470.535,1462.26 681.031,1462.26 681.031,1141.05 470.535,1141.05 470.535,1141.05 \n",
       "  \" fill=\"#009af9\" fill-rule=\"evenodd\" fill-opacity=\"1\"/>\n",
       "<polyline clip-path=\"url(#clip1502)\" style=\"stroke:#000000; stroke-width:4; stroke-opacity:1; fill:none\" points=\"\n",
       "  470.535,1141.05 470.535,1462.26 681.031,1462.26 681.031,1141.05 470.535,1141.05 \n",
       "  \"/>\n",
       "<polygon clip-path=\"url(#clip1502)\" points=\"\n",
       "681.031,284.505 681.031,1462.26 891.528,1462.26 891.528,284.505 681.031,284.505 681.031,284.505 \n",
       "  \" fill=\"#009af9\" fill-rule=\"evenodd\" fill-opacity=\"1\"/>\n",
       "<polyline clip-path=\"url(#clip1502)\" style=\"stroke:#000000; stroke-width:4; stroke-opacity:1; fill:none\" points=\"\n",
       "  681.031,284.505 681.031,1462.26 891.528,1462.26 891.528,284.505 681.031,284.505 \n",
       "  \"/>\n",
       "<polygon clip-path=\"url(#clip1502)\" points=\"\n",
       "891.528,177.436 891.528,1462.26 1102.02,1462.26 1102.02,177.436 891.528,177.436 891.528,177.436 \n",
       "  \" fill=\"#009af9\" fill-rule=\"evenodd\" fill-opacity=\"1\"/>\n",
       "<polyline clip-path=\"url(#clip1502)\" style=\"stroke:#000000; stroke-width:4; stroke-opacity:1; fill:none\" points=\"\n",
       "  891.528,177.436 891.528,1462.26 1102.02,1462.26 1102.02,177.436 891.528,177.436 \n",
       "  \"/>\n",
       "<polygon clip-path=\"url(#clip1502)\" points=\"\n",
       "1102.02,391.573 1102.02,1462.26 1312.52,1462.26 1312.52,391.573 1102.02,391.573 1102.02,391.573 \n",
       "  \" fill=\"#009af9\" fill-rule=\"evenodd\" fill-opacity=\"1\"/>\n",
       "<polyline clip-path=\"url(#clip1502)\" style=\"stroke:#000000; stroke-width:4; stroke-opacity:1; fill:none\" points=\"\n",
       "  1102.02,391.573 1102.02,1462.26 1312.52,1462.26 1312.52,391.573 1102.02,391.573 \n",
       "  \"/>\n",
       "<polygon clip-path=\"url(#clip1502)\" points=\"\n",
       "1312.52,926.917 1312.52,1462.26 1523.02,1462.26 1523.02,926.917 1312.52,926.917 1312.52,926.917 \n",
       "  \" fill=\"#009af9\" fill-rule=\"evenodd\" fill-opacity=\"1\"/>\n",
       "<polyline clip-path=\"url(#clip1502)\" style=\"stroke:#000000; stroke-width:4; stroke-opacity:1; fill:none\" points=\"\n",
       "  1312.52,926.917 1312.52,1462.26 1523.02,1462.26 1523.02,926.917 1312.52,926.917 \n",
       "  \"/>\n",
       "<polygon clip-path=\"url(#clip1502)\" points=\"\n",
       "1523.02,1033.99 1523.02,1462.26 1733.51,1462.26 1733.51,1033.99 1523.02,1033.99 1523.02,1033.99 \n",
       "  \" fill=\"#009af9\" fill-rule=\"evenodd\" fill-opacity=\"1\"/>\n",
       "<polyline clip-path=\"url(#clip1502)\" style=\"stroke:#000000; stroke-width:4; stroke-opacity:1; fill:none\" points=\"\n",
       "  1523.02,1033.99 1523.02,1462.26 1733.51,1462.26 1733.51,1033.99 1523.02,1033.99 \n",
       "  \"/>\n",
       "<polygon clip-path=\"url(#clip1502)\" points=\"\n",
       "1733.51,1033.99 1733.51,1462.26 1944.01,1462.26 1944.01,1033.99 1733.51,1033.99 1733.51,1033.99 \n",
       "  \" fill=\"#009af9\" fill-rule=\"evenodd\" fill-opacity=\"1\"/>\n",
       "<polyline clip-path=\"url(#clip1502)\" style=\"stroke:#000000; stroke-width:4; stroke-opacity:1; fill:none\" points=\"\n",
       "  1733.51,1033.99 1733.51,1462.26 1944.01,1462.26 1944.01,1033.99 1733.51,1033.99 \n",
       "  \"/>\n",
       "<polyline clip-path=\"url(#clip1502)\" style=\"stroke:#e26f46; stroke-width:8; stroke-opacity:1; fill:none\" stroke-dasharray=\"32, 20\" points=\"\n",
       "  365.287,1279.57 575.783,811.868 786.279,304.562 996.776,88.4582 1207.27,239.576 1417.77,591.709 1628.26,945.734 1838.76,1199.57 2049.26,1345.36 2259.75,1416.02 \n",
       "  \n",
       "  \"/>\n",
       "<circle clip-path=\"url(#clip1502)\" style=\"fill:#000000; stroke:none; fill-opacity:1\" cx=\"365.287\" cy=\"1279.57\" r=\"18\"/>\n",
       "<circle clip-path=\"url(#clip1502)\" style=\"fill:#e26f46; stroke:none; fill-opacity:1\" cx=\"365.287\" cy=\"1279.57\" r=\"14\"/>\n",
       "<circle clip-path=\"url(#clip1502)\" style=\"fill:#000000; stroke:none; fill-opacity:1\" cx=\"575.783\" cy=\"811.868\" r=\"18\"/>\n",
       "<circle clip-path=\"url(#clip1502)\" style=\"fill:#e26f46; stroke:none; fill-opacity:1\" cx=\"575.783\" cy=\"811.868\" r=\"14\"/>\n",
       "<circle clip-path=\"url(#clip1502)\" style=\"fill:#000000; stroke:none; fill-opacity:1\" cx=\"786.279\" cy=\"304.562\" r=\"18\"/>\n",
       "<circle clip-path=\"url(#clip1502)\" style=\"fill:#e26f46; stroke:none; fill-opacity:1\" cx=\"786.279\" cy=\"304.562\" r=\"14\"/>\n",
       "<circle clip-path=\"url(#clip1502)\" style=\"fill:#000000; stroke:none; fill-opacity:1\" cx=\"996.776\" cy=\"88.4582\" r=\"18\"/>\n",
       "<circle clip-path=\"url(#clip1502)\" style=\"fill:#e26f46; stroke:none; fill-opacity:1\" cx=\"996.776\" cy=\"88.4582\" r=\"14\"/>\n",
       "<circle clip-path=\"url(#clip1502)\" style=\"fill:#000000; stroke:none; fill-opacity:1\" cx=\"1207.27\" cy=\"239.576\" r=\"18\"/>\n",
       "<circle clip-path=\"url(#clip1502)\" style=\"fill:#e26f46; stroke:none; fill-opacity:1\" cx=\"1207.27\" cy=\"239.576\" r=\"14\"/>\n",
       "<circle clip-path=\"url(#clip1502)\" style=\"fill:#000000; stroke:none; fill-opacity:1\" cx=\"1417.77\" cy=\"591.709\" r=\"18\"/>\n",
       "<circle clip-path=\"url(#clip1502)\" style=\"fill:#e26f46; stroke:none; fill-opacity:1\" cx=\"1417.77\" cy=\"591.709\" r=\"14\"/>\n",
       "<circle clip-path=\"url(#clip1502)\" style=\"fill:#000000; stroke:none; fill-opacity:1\" cx=\"1628.26\" cy=\"945.734\" r=\"18\"/>\n",
       "<circle clip-path=\"url(#clip1502)\" style=\"fill:#e26f46; stroke:none; fill-opacity:1\" cx=\"1628.26\" cy=\"945.734\" r=\"14\"/>\n",
       "<circle clip-path=\"url(#clip1502)\" style=\"fill:#000000; stroke:none; fill-opacity:1\" cx=\"1838.76\" cy=\"1199.57\" r=\"18\"/>\n",
       "<circle clip-path=\"url(#clip1502)\" style=\"fill:#e26f46; stroke:none; fill-opacity:1\" cx=\"1838.76\" cy=\"1199.57\" r=\"14\"/>\n",
       "<circle clip-path=\"url(#clip1502)\" style=\"fill:#000000; stroke:none; fill-opacity:1\" cx=\"2049.26\" cy=\"1345.36\" r=\"18\"/>\n",
       "<circle clip-path=\"url(#clip1502)\" style=\"fill:#e26f46; stroke:none; fill-opacity:1\" cx=\"2049.26\" cy=\"1345.36\" r=\"14\"/>\n",
       "<circle clip-path=\"url(#clip1502)\" style=\"fill:#000000; stroke:none; fill-opacity:1\" cx=\"2259.75\" cy=\"1416.02\" r=\"18\"/>\n",
       "<circle clip-path=\"url(#clip1502)\" style=\"fill:#e26f46; stroke:none; fill-opacity:1\" cx=\"2259.75\" cy=\"1416.02\" r=\"14\"/>\n",
       "<polygon clip-path=\"url(#clip1500)\" points=\"\n",
       "1915.59,312.204 2249.26,312.204 2249.26,130.764 1915.59,130.764 \n",
       "  \" fill=\"#ffffff\" fill-rule=\"evenodd\" fill-opacity=\"1\"/>\n",
       "<polyline clip-path=\"url(#clip1500)\" style=\"stroke:#000000; stroke-width:4; stroke-opacity:1; fill:none\" points=\"\n",
       "  1915.59,312.204 2249.26,312.204 2249.26,130.764 1915.59,130.764 1915.59,312.204 \n",
       "  \"/>\n",
       "<polygon clip-path=\"url(#clip1500)\" points=\"\n",
       "1939.59,215.436 2083.59,215.436 2083.59,167.052 1939.59,167.052 1939.59,215.436 \n",
       "  \" fill=\"#009af9\" fill-rule=\"evenodd\" fill-opacity=\"1\"/>\n",
       "<polyline clip-path=\"url(#clip1500)\" style=\"stroke:#000000; stroke-width:4; stroke-opacity:1; fill:none\" points=\"\n",
       "  1939.59,215.436 2083.59,215.436 2083.59,167.052 1939.59,167.052 1939.59,215.436 \n",
       "  \"/>\n",
       "<g clip-path=\"url(#clip1500)\">\n",
       "<text style=\"fill:#000000; fill-opacity:1; font-family:Arial,Helvetica Neue,Helvetica,sans-serif; font-size:48px; text-anchor:start;\" transform=\"rotate(0, 2107.59, 208.744)\" x=\"2107.59\" y=\"208.744\">data</text>\n",
       "</g>\n",
       "<polyline clip-path=\"url(#clip1500)\" style=\"stroke:#e26f46; stroke-width:8; stroke-opacity:1; fill:none\" stroke-dasharray=\"32, 20\" points=\"\n",
       "  1939.59,251.724 2083.59,251.724 \n",
       "  \"/>\n",
       "<circle clip-path=\"url(#clip1500)\" style=\"fill:#000000; stroke:none; fill-opacity:1\" cx=\"2023.59\" cy=\"251.724\" r=\"25\"/>\n",
       "<circle clip-path=\"url(#clip1500)\" style=\"fill:#e26f46; stroke:none; fill-opacity:1\" cx=\"2023.59\" cy=\"251.724\" r=\"21\"/>\n",
       "<g clip-path=\"url(#clip1500)\">\n",
       "<text style=\"fill:#000000; fill-opacity:1; font-family:Arial,Helvetica Neue,Helvetica,sans-serif; font-size:48px; text-anchor:start;\" transform=\"rotate(0, 2107.59, 269.224)\" x=\"2107.59\" y=\"269.224\">y2</text>\n",
       "</g>\n",
       "</svg>\n"
      ]
     },
     "execution_count": 23,
     "metadata": {},
     "output_type": "execute_result"
    }
   ],
   "source": [
    "x = 0.5:1:9.5\n",
    "histogram(data, bins=10, label=\"data\")\n",
    "plot!(x, prob*60, linewidth=2, linestyle=:dash, marker=4)"
   ]
  },
  {
   "cell_type": "markdown",
   "metadata": {},
   "source": [
    "### 2.4 ポアソン分布のパラメーターの最尤推定\n",
    "### 対数尤度 logL(λ)とλの関係¶"
   ]
  },
  {
   "cell_type": "code",
   "execution_count": 17,
   "metadata": {},
   "outputs": [
    {
     "data": {
      "text/plain": [
       "logL (generic function with 1 method)"
      ]
     },
     "execution_count": 17,
     "metadata": {},
     "output_type": "execute_result"
    }
   ],
   "source": [
    "logL(m) = sum(log.(pdf.(Poisson(m), data)))"
   ]
  },
  {
   "cell_type": "code",
   "execution_count": 18,
   "metadata": {},
   "outputs": [
    {
     "data": {
      "image/svg+xml": [
       "<?xml version=\"1.0\" encoding=\"utf-8\"?>\n",
       "<svg xmlns=\"http://www.w3.org/2000/svg\" xmlns:xlink=\"http://www.w3.org/1999/xlink\" width=\"600\" height=\"400\" viewBox=\"0 0 2400 1600\">\n",
       "<defs>\n",
       "  <clipPath id=\"clip0100\">\n",
       "    <rect x=\"0\" y=\"0\" width=\"2400\" height=\"1600\"/>\n",
       "  </clipPath>\n",
       "</defs>\n",
       "<polygon clip-path=\"url(#clip0100)\" points=\"\n",
       "0,1600 2400,1600 2400,0 0,0 \n",
       "  \" fill=\"#ffffff\" fill-rule=\"evenodd\" fill-opacity=\"1\"/>\n",
       "<defs>\n",
       "  <clipPath id=\"clip0101\">\n",
       "    <rect x=\"480\" y=\"0\" width=\"1681\" height=\"1600\"/>\n",
       "  </clipPath>\n",
       "</defs>\n",
       "<polygon clip-path=\"url(#clip0100)\" points=\"\n",
       "202.885,1503.47 2321.26,1503.47 2321.26,125.984 202.885,125.984 \n",
       "  \" fill=\"#ffffff\" fill-rule=\"evenodd\" fill-opacity=\"1\"/>\n",
       "<defs>\n",
       "  <clipPath id=\"clip0102\">\n",
       "    <rect x=\"202\" y=\"125\" width=\"2119\" height=\"1378\"/>\n",
       "  </clipPath>\n",
       "</defs>\n",
       "<polyline clip-path=\"url(#clip0102)\" style=\"stroke:#000000; stroke-width:2; stroke-opacity:0.1; fill:none\" points=\"\n",
       "  262.839,1503.47 262.839,125.984 \n",
       "  \"/>\n",
       "<polyline clip-path=\"url(#clip0102)\" style=\"stroke:#000000; stroke-width:2; stroke-opacity:0.1; fill:none\" points=\"\n",
       "  928.995,1503.47 928.995,125.984 \n",
       "  \"/>\n",
       "<polyline clip-path=\"url(#clip0102)\" style=\"stroke:#000000; stroke-width:2; stroke-opacity:0.1; fill:none\" points=\"\n",
       "  1595.15,1503.47 1595.15,125.984 \n",
       "  \"/>\n",
       "<polyline clip-path=\"url(#clip0102)\" style=\"stroke:#000000; stroke-width:2; stroke-opacity:0.1; fill:none\" points=\"\n",
       "  2261.31,1503.47 2261.31,125.984 \n",
       "  \"/>\n",
       "<polyline clip-path=\"url(#clip0102)\" style=\"stroke:#000000; stroke-width:2; stroke-opacity:0.1; fill:none\" points=\"\n",
       "  202.885,1365.26 2321.26,1365.26 \n",
       "  \"/>\n",
       "<polyline clip-path=\"url(#clip0102)\" style=\"stroke:#000000; stroke-width:2; stroke-opacity:0.1; fill:none\" points=\"\n",
       "  202.885,1101.53 2321.26,1101.53 \n",
       "  \"/>\n",
       "<polyline clip-path=\"url(#clip0102)\" style=\"stroke:#000000; stroke-width:2; stroke-opacity:0.1; fill:none\" points=\"\n",
       "  202.885,837.801 2321.26,837.801 \n",
       "  \"/>\n",
       "<polyline clip-path=\"url(#clip0102)\" style=\"stroke:#000000; stroke-width:2; stroke-opacity:0.1; fill:none\" points=\"\n",
       "  202.885,574.07 2321.26,574.07 \n",
       "  \"/>\n",
       "<polyline clip-path=\"url(#clip0102)\" style=\"stroke:#000000; stroke-width:2; stroke-opacity:0.1; fill:none\" points=\"\n",
       "  202.885,310.338 2321.26,310.338 \n",
       "  \"/>\n",
       "<polyline clip-path=\"url(#clip0100)\" style=\"stroke:#000000; stroke-width:4; stroke-opacity:1; fill:none\" points=\"\n",
       "  202.885,1503.47 2321.26,1503.47 \n",
       "  \"/>\n",
       "<polyline clip-path=\"url(#clip0100)\" style=\"stroke:#000000; stroke-width:4; stroke-opacity:1; fill:none\" points=\"\n",
       "  202.885,1503.47 202.885,125.984 \n",
       "  \"/>\n",
       "<polyline clip-path=\"url(#clip0100)\" style=\"stroke:#000000; stroke-width:4; stroke-opacity:1; fill:none\" points=\"\n",
       "  262.839,1503.47 262.839,1482.81 \n",
       "  \"/>\n",
       "<polyline clip-path=\"url(#clip0100)\" style=\"stroke:#000000; stroke-width:4; stroke-opacity:1; fill:none\" points=\"\n",
       "  928.995,1503.47 928.995,1482.81 \n",
       "  \"/>\n",
       "<polyline clip-path=\"url(#clip0100)\" style=\"stroke:#000000; stroke-width:4; stroke-opacity:1; fill:none\" points=\"\n",
       "  1595.15,1503.47 1595.15,1482.81 \n",
       "  \"/>\n",
       "<polyline clip-path=\"url(#clip0100)\" style=\"stroke:#000000; stroke-width:4; stroke-opacity:1; fill:none\" points=\"\n",
       "  2261.31,1503.47 2261.31,1482.81 \n",
       "  \"/>\n",
       "<polyline clip-path=\"url(#clip0100)\" style=\"stroke:#000000; stroke-width:4; stroke-opacity:1; fill:none\" points=\"\n",
       "  202.885,1365.26 234.661,1365.26 \n",
       "  \"/>\n",
       "<polyline clip-path=\"url(#clip0100)\" style=\"stroke:#000000; stroke-width:4; stroke-opacity:1; fill:none\" points=\"\n",
       "  202.885,1101.53 234.661,1101.53 \n",
       "  \"/>\n",
       "<polyline clip-path=\"url(#clip0100)\" style=\"stroke:#000000; stroke-width:4; stroke-opacity:1; fill:none\" points=\"\n",
       "  202.885,837.801 234.661,837.801 \n",
       "  \"/>\n",
       "<polyline clip-path=\"url(#clip0100)\" style=\"stroke:#000000; stroke-width:4; stroke-opacity:1; fill:none\" points=\"\n",
       "  202.885,574.07 234.661,574.07 \n",
       "  \"/>\n",
       "<polyline clip-path=\"url(#clip0100)\" style=\"stroke:#000000; stroke-width:4; stroke-opacity:1; fill:none\" points=\"\n",
       "  202.885,310.338 234.661,310.338 \n",
       "  \"/>\n",
       "<g clip-path=\"url(#clip0100)\">\n",
       "<text style=\"fill:#000000; fill-opacity:1; font-family:Arial,Helvetica Neue,Helvetica,sans-serif; font-size:48px; text-anchor:middle;\" transform=\"rotate(0, 262.839, 1557.47)\" x=\"262.839\" y=\"1557.47\">2</text>\n",
       "</g>\n",
       "<g clip-path=\"url(#clip0100)\">\n",
       "<text style=\"fill:#000000; fill-opacity:1; font-family:Arial,Helvetica Neue,Helvetica,sans-serif; font-size:48px; text-anchor:middle;\" transform=\"rotate(0, 928.995, 1557.47)\" x=\"928.995\" y=\"1557.47\">3</text>\n",
       "</g>\n",
       "<g clip-path=\"url(#clip0100)\">\n",
       "<text style=\"fill:#000000; fill-opacity:1; font-family:Arial,Helvetica Neue,Helvetica,sans-serif; font-size:48px; text-anchor:middle;\" transform=\"rotate(0, 1595.15, 1557.47)\" x=\"1595.15\" y=\"1557.47\">4</text>\n",
       "</g>\n",
       "<g clip-path=\"url(#clip0100)\">\n",
       "<text style=\"fill:#000000; fill-opacity:1; font-family:Arial,Helvetica Neue,Helvetica,sans-serif; font-size:48px; text-anchor:middle;\" transform=\"rotate(0, 2261.31, 1557.47)\" x=\"2261.31\" y=\"1557.47\">5</text>\n",
       "</g>\n",
       "<g clip-path=\"url(#clip0100)\">\n",
       "<text style=\"fill:#000000; fill-opacity:1; font-family:Arial,Helvetica Neue,Helvetica,sans-serif; font-size:48px; text-anchor:end;\" transform=\"rotate(0, 178.885, 1382.76)\" x=\"178.885\" y=\"1382.76\">-120</text>\n",
       "</g>\n",
       "<g clip-path=\"url(#clip0100)\">\n",
       "<text style=\"fill:#000000; fill-opacity:1; font-family:Arial,Helvetica Neue,Helvetica,sans-serif; font-size:48px; text-anchor:end;\" transform=\"rotate(0, 178.885, 1119.03)\" x=\"178.885\" y=\"1119.03\">-115</text>\n",
       "</g>\n",
       "<g clip-path=\"url(#clip0100)\">\n",
       "<text style=\"fill:#000000; fill-opacity:1; font-family:Arial,Helvetica Neue,Helvetica,sans-serif; font-size:48px; text-anchor:end;\" transform=\"rotate(0, 178.885, 855.301)\" x=\"178.885\" y=\"855.301\">-110</text>\n",
       "</g>\n",
       "<g clip-path=\"url(#clip0100)\">\n",
       "<text style=\"fill:#000000; fill-opacity:1; font-family:Arial,Helvetica Neue,Helvetica,sans-serif; font-size:48px; text-anchor:end;\" transform=\"rotate(0, 178.885, 591.57)\" x=\"178.885\" y=\"591.57\">-105</text>\n",
       "</g>\n",
       "<g clip-path=\"url(#clip0100)\">\n",
       "<text style=\"fill:#000000; fill-opacity:1; font-family:Arial,Helvetica Neue,Helvetica,sans-serif; font-size:48px; text-anchor:end;\" transform=\"rotate(0, 178.885, 327.838)\" x=\"178.885\" y=\"327.838\">-100</text>\n",
       "</g>\n",
       "<g clip-path=\"url(#clip0100)\">\n",
       "<text style=\"fill:#000000; fill-opacity:1; font-family:Arial,Helvetica Neue,Helvetica,sans-serif; font-size:84px; text-anchor:middle;\" transform=\"rotate(0, 1262.07, 73.2)\" x=\"1262.07\" y=\"73.2\">log likelyhood</text>\n",
       "</g>\n",
       "<polyline clip-path=\"url(#clip0102)\" style=\"stroke:#009af9; stroke-width:8; stroke-opacity:1; fill:none\" points=\"\n",
       "  262.839,1464.49 269.501,1444.04 276.162,1423.81 282.824,1403.82 289.486,1384.06 296.147,1364.52 302.809,1345.21 309.47,1326.11 316.132,1307.24 322.793,1288.58 \n",
       "  329.455,1270.14 336.116,1251.91 342.778,1233.89 349.44,1216.08 356.101,1198.48 362.763,1181.08 369.424,1163.88 376.086,1146.89 382.747,1130.1 389.409,1113.5 \n",
       "  396.07,1097.1 402.732,1080.89 409.394,1064.88 416.055,1049.06 422.717,1033.42 429.378,1017.97 436.04,1002.71 442.701,987.631 449.363,972.734 456.024,958.018 \n",
       "  462.686,943.481 469.347,929.122 476.009,914.938 482.671,900.929 489.332,887.093 495.994,873.429 502.655,859.934 509.317,846.608 515.978,833.449 522.64,820.456 \n",
       "  529.301,807.627 535.963,794.962 542.625,782.457 549.286,770.114 555.948,757.929 562.609,745.902 569.271,734.031 575.932,722.316 582.594,710.754 589.255,699.345 \n",
       "  595.917,688.088 602.579,676.98 609.24,666.022 615.902,655.212 622.563,644.548 629.225,634.03 635.886,623.656 642.548,613.425 649.209,603.337 655.871,593.39 \n",
       "  662.533,583.582 669.194,573.914 675.856,564.383 682.517,554.989 689.179,545.731 695.84,536.607 702.502,527.618 709.163,518.761 715.825,510.035 722.487,501.441 \n",
       "  729.148,492.976 735.81,484.64 742.471,476.431 749.133,468.35 755.794,460.395 762.456,452.564 769.117,444.858 775.779,437.275 782.441,429.815 789.102,422.476 \n",
       "  795.764,415.257 802.425,408.159 809.087,401.179 815.748,394.317 822.41,387.573 829.071,380.945 835.733,374.432 842.395,368.034 849.056,361.751 855.718,355.58 \n",
       "  862.379,349.522 869.041,343.575 875.702,337.74 882.364,332.014 889.025,326.398 895.687,320.891 902.349,315.491 909.01,310.199 915.672,305.013 922.333,299.932 \n",
       "  928.995,294.957 935.656,290.086 942.318,285.319 948.979,280.655 955.641,276.092 962.303,271.632 968.964,267.272 975.626,263.013 982.287,258.853 988.949,254.793 \n",
       "  995.61,250.83 1002.27,246.966 1008.93,243.198 1015.6,239.527 1022.26,235.951 1028.92,232.471 1035.58,229.086 1042.24,225.794 1048.9,222.596 1055.56,219.491 \n",
       "  1062.23,216.478 1068.89,213.557 1075.55,210.727 1082.21,207.987 1088.87,205.338 1095.53,202.778 1102.2,200.306 1108.86,197.924 1115.52,195.628 1122.18,193.421 \n",
       "  1128.84,191.3 1135.5,189.265 1142.16,187.316 1148.83,185.452 1155.49,183.672 1162.15,181.977 1168.81,180.366 1175.47,178.837 1182.13,177.392 1188.8,176.028 \n",
       "  1195.46,174.746 1202.12,173.546 1208.78,172.426 1215.44,171.386 1222.1,170.427 1228.76,169.546 1235.43,168.745 1242.09,168.022 1248.75,167.377 1255.41,166.809 \n",
       "  1262.07,166.318 1268.73,165.905 1275.4,165.567 1282.06,165.305 1288.72,165.119 1295.38,165.007 1302.04,164.97 1308.7,165.007 1315.37,165.117 1322.03,165.301 \n",
       "  1328.69,165.558 1335.35,165.887 1342.01,166.289 1348.67,166.761 1355.33,167.306 1362,167.921 1368.66,168.606 1375.32,169.362 1381.98,170.187 1388.64,171.081 \n",
       "  1395.3,172.045 1401.97,173.077 1408.63,174.177 1415.29,175.346 1421.95,176.581 1428.61,177.884 1435.27,179.254 1441.93,180.69 1448.6,182.192 1455.26,183.759 \n",
       "  1461.92,185.393 1468.58,187.091 1475.24,188.853 1481.9,190.681 1488.57,192.572 1495.23,194.527 1501.89,196.545 1508.55,198.626 1515.21,200.77 1521.87,202.976 \n",
       "  1528.53,205.244 1535.2,207.574 1541.86,209.966 1548.52,212.418 1555.18,214.932 1561.84,217.505 1568.5,220.139 1575.17,222.833 1581.83,225.587 1588.49,228.399 \n",
       "  1595.15,231.271 1601.81,234.201 1608.47,237.19 1615.13,240.237 1621.8,243.341 1628.46,246.504 1635.12,249.723 1641.78,252.999 1648.44,256.332 1655.1,259.722 \n",
       "  1661.77,263.167 1668.43,266.669 1675.09,270.226 1681.75,273.838 1688.41,277.505 1695.07,281.228 1701.74,285.004 1708.4,288.835 1715.06,292.72 1721.72,296.659 \n",
       "  1728.38,300.651 1735.04,304.696 1741.7,308.794 1748.37,312.945 1755.03,317.149 1761.69,321.405 1768.35,325.712 1775.01,330.072 1781.67,334.483 1788.34,338.945 \n",
       "  1795,343.458 1801.66,348.022 1808.32,352.637 1814.98,357.301 1821.64,362.016 1828.3,366.781 1834.97,371.595 1841.63,376.459 1848.29,381.372 1854.95,386.334 \n",
       "  1861.61,391.345 1868.27,396.404 1874.94,401.511 1881.6,406.666 1888.26,411.87 1894.92,417.121 1901.58,422.419 1908.24,427.764 1914.9,433.157 1921.57,438.596 \n",
       "  1928.23,444.082 1934.89,449.614 1941.55,455.193 1948.21,460.817 1954.87,466.487 1961.54,472.203 1968.2,477.964 1974.86,483.77 1981.52,489.621 1988.18,495.517 \n",
       "  1994.84,501.457 2001.51,507.442 2008.17,513.471 2014.83,519.544 2021.49,525.66 2028.15,531.821 2034.81,538.025 2041.47,544.272 2048.14,550.562 2054.8,556.895 \n",
       "  2061.46,563.27 2068.12,569.688 2074.78,576.149 2081.44,582.651 2088.11,589.196 2094.77,595.782 2101.43,602.41 2108.09,609.079 2114.75,615.79 2121.41,622.542 \n",
       "  2128.07,629.334 2134.74,636.168 2141.4,643.042 2148.06,649.956 2154.72,656.911 2161.38,663.906 2168.04,670.94 2174.71,678.015 2181.37,685.129 2188.03,692.282 \n",
       "  2194.69,699.475 2201.35,706.706 2208.01,713.977 2214.67,721.287 2221.34,728.635 2228,736.021 2234.66,743.446 2241.32,750.909 2247.98,758.411 2254.64,765.95 \n",
       "  2261.31,773.526 \n",
       "  \"/>\n",
       "<polygon clip-path=\"url(#clip0100)\" points=\"\n",
       "1958.43,330.464 2249.26,330.464 2249.26,209.504 1958.43,209.504 \n",
       "  \" fill=\"#ffffff\" fill-rule=\"evenodd\" fill-opacity=\"1\"/>\n",
       "<polyline clip-path=\"url(#clip0100)\" style=\"stroke:#000000; stroke-width:4; stroke-opacity:1; fill:none\" points=\"\n",
       "  1958.43,330.464 2249.26,330.464 2249.26,209.504 1958.43,209.504 1958.43,330.464 \n",
       "  \"/>\n",
       "<polyline clip-path=\"url(#clip0100)\" style=\"stroke:#009af9; stroke-width:8; stroke-opacity:1; fill:none\" points=\"\n",
       "  1982.43,269.984 2126.43,269.984 \n",
       "  \"/>\n",
       "<g clip-path=\"url(#clip0100)\">\n",
       "<text style=\"fill:#000000; fill-opacity:1; font-family:Arial,Helvetica Neue,Helvetica,sans-serif; font-size:48px; text-anchor:start;\" transform=\"rotate(0, 2150.43, 287.484)\" x=\"2150.43\" y=\"287.484\">y1</text>\n",
       "</g>\n",
       "</svg>\n"
      ]
     },
     "execution_count": 18,
     "metadata": {},
     "output_type": "execute_result"
    }
   ],
   "source": [
    "lambda = 2:0.01:5\n",
    "plot(lambda, logL.(lambda), linewidth=2, title=\"log likelyhood\")"
   ]
  }
 ],
 "metadata": {
  "kernelspec": {
   "display_name": "Julia 1.1.0",
   "language": "julia",
   "name": "julia-1.1"
  },
  "language_info": {
   "file_extension": ".jl",
   "mimetype": "application/julia",
   "name": "julia",
   "version": "1.1.0"
  }
 },
 "nbformat": 4,
 "nbformat_minor": 2
}
